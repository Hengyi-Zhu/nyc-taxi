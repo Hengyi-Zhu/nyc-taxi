{
 "cells": [
  {
   "cell_type": "code",
   "execution_count": 1,
   "metadata": {
    "collapsed": false
   },
   "outputs": [],
   "source": [
    "import pandas as pd\n",
    "yellow_2015 = pd.read_csv(\"./data_for_graph/yellow_sample_2015.csv\")\n",
    "green_2015 = pd.read_csv(\"./data_for_graph/green_sample_2015.csv\")"
   ]
  },
  {
   "cell_type": "code",
   "execution_count": 2,
   "metadata": {
    "collapsed": false,
    "scrolled": true
   },
   "outputs": [
    {
     "data": {
      "text/html": [
       "<div>\n",
       "<table border=\"1\" class=\"dataframe\">\n",
       "  <thead>\n",
       "    <tr style=\"text-align: right;\">\n",
       "      <th></th>\n",
       "      <th>index</th>\n",
       "      <th>cab_types</th>\n",
       "      <th>dropoff_datetime</th>\n",
       "      <th>dropoff_latitude</th>\n",
       "      <th>dropoff_longitude</th>\n",
       "      <th>ehail_fee</th>\n",
       "      <th>extra</th>\n",
       "      <th>fare_amount</th>\n",
       "      <th>id</th>\n",
       "      <th>improvement_surcharge</th>\n",
       "      <th>...</th>\n",
       "      <th>Nassau_Westchester</th>\n",
       "      <th>Negotiated</th>\n",
       "      <th>weekday</th>\n",
       "      <th>monday</th>\n",
       "      <th>tuesday</th>\n",
       "      <th>wednesday</th>\n",
       "      <th>thursday</th>\n",
       "      <th>friday</th>\n",
       "      <th>saturday</th>\n",
       "      <th>sunday</th>\n",
       "    </tr>\n",
       "  </thead>\n",
       "  <tbody>\n",
       "    <tr>\n",
       "      <th>0</th>\n",
       "      <td>0</td>\n",
       "      <td>Yellow_Cab</td>\n",
       "      <td>2015-01-03 18:39:36</td>\n",
       "      <td>40.751133</td>\n",
       "      <td>-73.991531</td>\n",
       "      <td>NaN</td>\n",
       "      <td>0.0</td>\n",
       "      <td>6.5</td>\n",
       "      <td>167370089</td>\n",
       "      <td>0.3</td>\n",
       "      <td>...</td>\n",
       "      <td>0</td>\n",
       "      <td>0</td>\n",
       "      <td>5</td>\n",
       "      <td>0</td>\n",
       "      <td>0</td>\n",
       "      <td>0</td>\n",
       "      <td>0</td>\n",
       "      <td>0</td>\n",
       "      <td>1</td>\n",
       "      <td>0</td>\n",
       "    </tr>\n",
       "    <tr>\n",
       "      <th>1</th>\n",
       "      <td>1</td>\n",
       "      <td>Yellow_Cab</td>\n",
       "      <td>2015-01-15 13:52:09</td>\n",
       "      <td>40.785961</td>\n",
       "      <td>-73.952858</td>\n",
       "      <td>NaN</td>\n",
       "      <td>0.0</td>\n",
       "      <td>10.0</td>\n",
       "      <td>176393848</td>\n",
       "      <td>0.3</td>\n",
       "      <td>...</td>\n",
       "      <td>0</td>\n",
       "      <td>0</td>\n",
       "      <td>3</td>\n",
       "      <td>0</td>\n",
       "      <td>0</td>\n",
       "      <td>0</td>\n",
       "      <td>1</td>\n",
       "      <td>0</td>\n",
       "      <td>0</td>\n",
       "      <td>0</td>\n",
       "    </tr>\n",
       "    <tr>\n",
       "      <th>2</th>\n",
       "      <td>2</td>\n",
       "      <td>Yellow_Cab</td>\n",
       "      <td>2015-01-14 10:31:33</td>\n",
       "      <td>40.703896</td>\n",
       "      <td>-74.011360</td>\n",
       "      <td>NaN</td>\n",
       "      <td>0.0</td>\n",
       "      <td>8.0</td>\n",
       "      <td>166696976</td>\n",
       "      <td>0.3</td>\n",
       "      <td>...</td>\n",
       "      <td>0</td>\n",
       "      <td>0</td>\n",
       "      <td>2</td>\n",
       "      <td>0</td>\n",
       "      <td>0</td>\n",
       "      <td>1</td>\n",
       "      <td>0</td>\n",
       "      <td>0</td>\n",
       "      <td>0</td>\n",
       "      <td>0</td>\n",
       "    </tr>\n",
       "    <tr>\n",
       "      <th>3</th>\n",
       "      <td>3</td>\n",
       "      <td>Yellow_Cab</td>\n",
       "      <td>2015-01-22 23:19:08</td>\n",
       "      <td>40.729179</td>\n",
       "      <td>-73.989212</td>\n",
       "      <td>NaN</td>\n",
       "      <td>0.5</td>\n",
       "      <td>7.5</td>\n",
       "      <td>174908353</td>\n",
       "      <td>0.3</td>\n",
       "      <td>...</td>\n",
       "      <td>0</td>\n",
       "      <td>0</td>\n",
       "      <td>3</td>\n",
       "      <td>0</td>\n",
       "      <td>0</td>\n",
       "      <td>0</td>\n",
       "      <td>1</td>\n",
       "      <td>0</td>\n",
       "      <td>0</td>\n",
       "      <td>0</td>\n",
       "    </tr>\n",
       "    <tr>\n",
       "      <th>4</th>\n",
       "      <td>4</td>\n",
       "      <td>Yellow_Cab</td>\n",
       "      <td>2015-01-05 03:54:23</td>\n",
       "      <td>40.723751</td>\n",
       "      <td>-74.005173</td>\n",
       "      <td>NaN</td>\n",
       "      <td>0.5</td>\n",
       "      <td>6.5</td>\n",
       "      <td>171388604</td>\n",
       "      <td>0.3</td>\n",
       "      <td>...</td>\n",
       "      <td>0</td>\n",
       "      <td>0</td>\n",
       "      <td>0</td>\n",
       "      <td>1</td>\n",
       "      <td>0</td>\n",
       "      <td>0</td>\n",
       "      <td>0</td>\n",
       "      <td>0</td>\n",
       "      <td>0</td>\n",
       "      <td>0</td>\n",
       "    </tr>\n",
       "  </tbody>\n",
       "</table>\n",
       "<p>5 rows × 45 columns</p>\n",
       "</div>"
      ],
      "text/plain": [
       "   index   cab_types    dropoff_datetime  dropoff_latitude  dropoff_longitude  \\\n",
       "0      0  Yellow_Cab 2015-01-03 18:39:36         40.751133         -73.991531   \n",
       "1      1  Yellow_Cab 2015-01-15 13:52:09         40.785961         -73.952858   \n",
       "2      2  Yellow_Cab 2015-01-14 10:31:33         40.703896         -74.011360   \n",
       "3      3  Yellow_Cab 2015-01-22 23:19:08         40.729179         -73.989212   \n",
       "4      4  Yellow_Cab 2015-01-05 03:54:23         40.723751         -74.005173   \n",
       "\n",
       "   ehail_fee  extra  fare_amount         id  improvement_surcharge  ...    \\\n",
       "0        NaN    0.0          6.5  167370089                    0.3  ...     \n",
       "1        NaN    0.0         10.0  176393848                    0.3  ...     \n",
       "2        NaN    0.0          8.0  166696976                    0.3  ...     \n",
       "3        NaN    0.5          7.5  174908353                    0.3  ...     \n",
       "4        NaN    0.5          6.5  171388604                    0.3  ...     \n",
       "\n",
       "   Nassau_Westchester  Negotiated  weekday  monday  tuesday wednesday  \\\n",
       "0                   0           0        5       0        0         0   \n",
       "1                   0           0        3       0        0         0   \n",
       "2                   0           0        2       0        0         1   \n",
       "3                   0           0        3       0        0         0   \n",
       "4                   0           0        0       1        0         0   \n",
       "\n",
       "   thursday  friday  saturday sunday  \n",
       "0         0       0         1      0  \n",
       "1         1       0         0      0  \n",
       "2         0       0         0      0  \n",
       "3         1       0         0      0  \n",
       "4         0       0         0      0  \n",
       "\n",
       "[5 rows x 45 columns]"
      ]
     },
     "execution_count": 2,
     "metadata": {},
     "output_type": "execute_result"
    }
   ],
   "source": [
    "trips_2015 = pd.concat([yellow_2015, green_2015])\n",
    "\n",
    "trips_2015 = trips_2015[trips_2015['trip_distance'] <= 50]\n",
    "trips_2015['dropoff_datetime'] = pd.to_datetime(trips_2015['dropoff_datetime'])\n",
    "trips_2015['pickup_datetime'] = pd.to_datetime(trips_2015['pickup_datetime'])\n",
    "trips_2015['trip_length_seconds'] = [i.seconds for i in (trips_2015['dropoff_datetime'] - trips_2015['pickup_datetime'])]\n",
    "trips_2015['trip_length_minutes'] = trips_2015['trip_length_seconds']/60.0\n",
    "trips_2015 = trips_2015[(trips_2015['trip_length_seconds'] <= 10800) & (trips_2015['trip_length_seconds'] >= 60)]\n",
    "trips_2015['mph'] = trips_2015['trip_distance'] / trips_2015['trip_length_seconds'] * 60 * 60\n",
    "trips_2015 = trips_2015[(trips_2015['mph'] <= 100) & (trips_2015['mph'] > 0)]\n",
    "\n",
    "trips_2015 = trips_2015[trips_2015['total_amount'] <= 400]\n",
    "trips_2015 = trips_2015[trips_2015['fare_amount'] > 0].reset_index()\n",
    "\n",
    "trips_2015['yellow_cab'] = [1 if x == \"Yellow_Cab\" else 0 for x in trips_2015['cab_types']]\n",
    "trips_2015['rush_hour'] = [1 if x == 1.0 else 0 for x in trips_2015['extra']]\n",
    "trips_2015['over_night'] = [1 if x == 0.5 else 0 for x in trips_2015['extra']]\n",
    "trips_2015['JFK'] = [1 if x == 2 else 0 for x in trips_2015['rate_code_id']]\n",
    "trips_2015['JFK_trip_distance'] = trips_2015['JFK'] * trips_2015['trip_distance']\n",
    "trips_2015['Newark'] = [1 if x == 3 else 0 for x in trips_2015['rate_code_id']]\n",
    "trips_2015['Nassau_Westchester'] = [1 if x == 4 else 0 for x in trips_2015['rate_code_id']]\n",
    "trips_2015['Negotiated'] = [1 if x == 5 else 0 for x in trips_2015['rate_code_id']]\n",
    "\n",
    "trips_2015['weekday'] = [x.weekday() for x in trips_2015['pickup_datetime']]\n",
    "trips_2015['monday'] = [1 if x == 0 else 0 for x in trips_2015['weekday']]\n",
    "trips_2015['tuesday'] = [1 if x == 1 else 0 for x in trips_2015['weekday']]\n",
    "trips_2015['wednesday'] = [1 if x == 2 else 0 for x in trips_2015['weekday']]\n",
    "trips_2015['thursday'] = [1 if x == 3 else 0 for x in trips_2015['weekday']]\n",
    "trips_2015['friday'] = [1 if x == 4 else 0 for x in trips_2015['weekday']]\n",
    "trips_2015['saturday'] = [1 if x == 5 else 0 for x in trips_2015['weekday']]\n",
    "trips_2015['sunday'] = [1 if x == 6 else 0 for x in trips_2015['weekday']]\n",
    "trips_2015.head()"
   ]
  },
  {
   "cell_type": "code",
   "execution_count": 3,
   "metadata": {
    "collapsed": false,
    "scrolled": false
   },
   "outputs": [
    {
     "data": {
      "text/html": [
       "<div>\n",
       "<table border=\"1\" class=\"dataframe\">\n",
       "  <thead>\n",
       "    <tr style=\"text-align: right;\">\n",
       "      <th></th>\n",
       "      <th>index</th>\n",
       "      <th>cab_types</th>\n",
       "      <th>dropoff_datetime</th>\n",
       "      <th>dropoff_latitude</th>\n",
       "      <th>dropoff_longitude</th>\n",
       "      <th>ehail_fee</th>\n",
       "      <th>extra</th>\n",
       "      <th>fare_amount</th>\n",
       "      <th>id</th>\n",
       "      <th>improvement_surcharge</th>\n",
       "      <th>...</th>\n",
       "      <th>hour_14</th>\n",
       "      <th>hour_15</th>\n",
       "      <th>hour_16</th>\n",
       "      <th>hour_17</th>\n",
       "      <th>hour_18</th>\n",
       "      <th>hour_19</th>\n",
       "      <th>hour_20</th>\n",
       "      <th>hour_21</th>\n",
       "      <th>hour_22</th>\n",
       "      <th>hour_23</th>\n",
       "    </tr>\n",
       "  </thead>\n",
       "  <tbody>\n",
       "    <tr>\n",
       "      <th>0</th>\n",
       "      <td>0</td>\n",
       "      <td>Yellow_Cab</td>\n",
       "      <td>2015-01-03 18:39:36</td>\n",
       "      <td>40.751133</td>\n",
       "      <td>-73.991531</td>\n",
       "      <td>NaN</td>\n",
       "      <td>0.0</td>\n",
       "      <td>6.5</td>\n",
       "      <td>167370089</td>\n",
       "      <td>0.3</td>\n",
       "      <td>...</td>\n",
       "      <td>0.0</td>\n",
       "      <td>0.0</td>\n",
       "      <td>0.0</td>\n",
       "      <td>0.0</td>\n",
       "      <td>1.0</td>\n",
       "      <td>0.0</td>\n",
       "      <td>0.0</td>\n",
       "      <td>0.0</td>\n",
       "      <td>0.0</td>\n",
       "      <td>0.0</td>\n",
       "    </tr>\n",
       "    <tr>\n",
       "      <th>1</th>\n",
       "      <td>1</td>\n",
       "      <td>Yellow_Cab</td>\n",
       "      <td>2015-01-15 13:52:09</td>\n",
       "      <td>40.785961</td>\n",
       "      <td>-73.952858</td>\n",
       "      <td>NaN</td>\n",
       "      <td>0.0</td>\n",
       "      <td>10.0</td>\n",
       "      <td>176393848</td>\n",
       "      <td>0.3</td>\n",
       "      <td>...</td>\n",
       "      <td>0.0</td>\n",
       "      <td>0.0</td>\n",
       "      <td>0.0</td>\n",
       "      <td>0.0</td>\n",
       "      <td>0.0</td>\n",
       "      <td>0.0</td>\n",
       "      <td>0.0</td>\n",
       "      <td>0.0</td>\n",
       "      <td>0.0</td>\n",
       "      <td>0.0</td>\n",
       "    </tr>\n",
       "    <tr>\n",
       "      <th>2</th>\n",
       "      <td>2</td>\n",
       "      <td>Yellow_Cab</td>\n",
       "      <td>2015-01-14 10:31:33</td>\n",
       "      <td>40.703896</td>\n",
       "      <td>-74.011360</td>\n",
       "      <td>NaN</td>\n",
       "      <td>0.0</td>\n",
       "      <td>8.0</td>\n",
       "      <td>166696976</td>\n",
       "      <td>0.3</td>\n",
       "      <td>...</td>\n",
       "      <td>0.0</td>\n",
       "      <td>0.0</td>\n",
       "      <td>0.0</td>\n",
       "      <td>0.0</td>\n",
       "      <td>0.0</td>\n",
       "      <td>0.0</td>\n",
       "      <td>0.0</td>\n",
       "      <td>0.0</td>\n",
       "      <td>0.0</td>\n",
       "      <td>0.0</td>\n",
       "    </tr>\n",
       "    <tr>\n",
       "      <th>3</th>\n",
       "      <td>3</td>\n",
       "      <td>Yellow_Cab</td>\n",
       "      <td>2015-01-22 23:19:08</td>\n",
       "      <td>40.729179</td>\n",
       "      <td>-73.989212</td>\n",
       "      <td>NaN</td>\n",
       "      <td>0.5</td>\n",
       "      <td>7.5</td>\n",
       "      <td>174908353</td>\n",
       "      <td>0.3</td>\n",
       "      <td>...</td>\n",
       "      <td>0.0</td>\n",
       "      <td>0.0</td>\n",
       "      <td>0.0</td>\n",
       "      <td>0.0</td>\n",
       "      <td>0.0</td>\n",
       "      <td>0.0</td>\n",
       "      <td>0.0</td>\n",
       "      <td>0.0</td>\n",
       "      <td>0.0</td>\n",
       "      <td>1.0</td>\n",
       "    </tr>\n",
       "    <tr>\n",
       "      <th>4</th>\n",
       "      <td>4</td>\n",
       "      <td>Yellow_Cab</td>\n",
       "      <td>2015-01-05 03:54:23</td>\n",
       "      <td>40.723751</td>\n",
       "      <td>-74.005173</td>\n",
       "      <td>NaN</td>\n",
       "      <td>0.5</td>\n",
       "      <td>6.5</td>\n",
       "      <td>171388604</td>\n",
       "      <td>0.3</td>\n",
       "      <td>...</td>\n",
       "      <td>0.0</td>\n",
       "      <td>0.0</td>\n",
       "      <td>0.0</td>\n",
       "      <td>0.0</td>\n",
       "      <td>0.0</td>\n",
       "      <td>0.0</td>\n",
       "      <td>0.0</td>\n",
       "      <td>0.0</td>\n",
       "      <td>0.0</td>\n",
       "      <td>0.0</td>\n",
       "    </tr>\n",
       "  </tbody>\n",
       "</table>\n",
       "<p>5 rows × 70 columns</p>\n",
       "</div>"
      ],
      "text/plain": [
       "   index   cab_types    dropoff_datetime  dropoff_latitude  dropoff_longitude  \\\n",
       "0      0  Yellow_Cab 2015-01-03 18:39:36         40.751133         -73.991531   \n",
       "1      1  Yellow_Cab 2015-01-15 13:52:09         40.785961         -73.952858   \n",
       "2      2  Yellow_Cab 2015-01-14 10:31:33         40.703896         -74.011360   \n",
       "3      3  Yellow_Cab 2015-01-22 23:19:08         40.729179         -73.989212   \n",
       "4      4  Yellow_Cab 2015-01-05 03:54:23         40.723751         -74.005173   \n",
       "\n",
       "   ehail_fee  extra  fare_amount         id  improvement_surcharge   ...    \\\n",
       "0        NaN    0.0          6.5  167370089                    0.3   ...     \n",
       "1        NaN    0.0         10.0  176393848                    0.3   ...     \n",
       "2        NaN    0.0          8.0  166696976                    0.3   ...     \n",
       "3        NaN    0.5          7.5  174908353                    0.3   ...     \n",
       "4        NaN    0.5          6.5  171388604                    0.3   ...     \n",
       "\n",
       "   hour_14  hour_15  hour_16  hour_17  hour_18 hour_19  hour_20  hour_21  \\\n",
       "0      0.0      0.0      0.0      0.0      1.0     0.0      0.0      0.0   \n",
       "1      0.0      0.0      0.0      0.0      0.0     0.0      0.0      0.0   \n",
       "2      0.0      0.0      0.0      0.0      0.0     0.0      0.0      0.0   \n",
       "3      0.0      0.0      0.0      0.0      0.0     0.0      0.0      0.0   \n",
       "4      0.0      0.0      0.0      0.0      0.0     0.0      0.0      0.0   \n",
       "\n",
       "   hour_22 hour_23  \n",
       "0      0.0     0.0  \n",
       "1      0.0     0.0  \n",
       "2      0.0     0.0  \n",
       "3      0.0     1.0  \n",
       "4      0.0     0.0  \n",
       "\n",
       "[5 rows x 70 columns]"
      ]
     },
     "execution_count": 3,
     "metadata": {},
     "output_type": "execute_result"
    }
   ],
   "source": [
    "trips_2015['hour'] = [x.hour for x in trips_2015['pickup_datetime']]\n",
    "trips_2015 = pd.concat([trips_2015, pd.get_dummies(trips_2015['hour']).rename(columns=lambda y: 'hour_' + str(y))], axis=1)\n",
    "trips_2015.head()"
   ]
  },
  {
   "cell_type": "code",
   "execution_count": 4,
   "metadata": {
    "collapsed": true
   },
   "outputs": [
    {
     "data": {
      "text/plain": [
       "index                             int64\n",
       "cab_types                        object\n",
       "dropoff_datetime         datetime64[ns]\n",
       "dropoff_latitude                float64\n",
       "dropoff_longitude               float64\n",
       "ehail_fee                       float64\n",
       "extra                           float64\n",
       "fare_amount                     float64\n",
       "id                                int64\n",
       "improvement_surcharge           float64\n",
       "junk1                           float64\n",
       "junk2                           float64\n",
       "mta_tax                         float64\n",
       "passenger_count                   int64\n",
       "payment_type                      int64\n",
       "pickup_datetime          datetime64[ns]\n",
       "pickup_latitude                 float64\n",
       "pickup_longitude                float64\n",
       "rate_code_id                      int64\n",
       "store_and_fwd_flag               object\n",
       "tip_amount                      float64\n",
       "tolls_amount                    float64\n",
       "total_amount                    float64\n",
       "trip_distance                   float64\n",
       "trip_type                       float64\n",
       "vendor_id                         int64\n",
       "trip_length_seconds               int64\n",
       "trip_length_minutes             float64\n",
       "mph                             float64\n",
       "yellow_cab                        int64\n",
       "                              ...      \n",
       "wednesday                         int64\n",
       "thursday                          int64\n",
       "friday                            int64\n",
       "saturday                          int64\n",
       "sunday                            int64\n",
       "hour                              int64\n",
       "hour_0                          float64\n",
       "hour_1                          float64\n",
       "hour_2                          float64\n",
       "hour_3                          float64\n",
       "hour_4                          float64\n",
       "hour_5                          float64\n",
       "hour_6                          float64\n",
       "hour_7                          float64\n",
       "hour_8                          float64\n",
       "hour_9                          float64\n",
       "hour_10                         float64\n",
       "hour_11                         float64\n",
       "hour_12                         float64\n",
       "hour_13                         float64\n",
       "hour_14                         float64\n",
       "hour_15                         float64\n",
       "hour_16                         float64\n",
       "hour_17                         float64\n",
       "hour_18                         float64\n",
       "hour_19                         float64\n",
       "hour_20                         float64\n",
       "hour_21                         float64\n",
       "hour_22                         float64\n",
       "hour_23                         float64\n",
       "dtype: object"
      ]
     },
     "execution_count": 4,
     "metadata": {},
     "output_type": "execute_result"
    }
   ],
   "source": [
    "trips_2015.dtypes"
   ]
  },
  {
   "cell_type": "code",
   "execution_count": 174,
   "metadata": {
    "collapsed": true
   },
   "outputs": [],
   "source": [
    "trips_2015_sample = trips_2015.sample(n=60000, random_state=69)"
   ]
  },
  {
   "cell_type": "code",
   "execution_count": 176,
   "metadata": {
    "collapsed": false
   },
   "outputs": [
    {
     "data": {
      "text/plain": [
       "RandomForestRegressor(bootstrap=True, criterion='mse', max_depth=None,\n",
       "           max_features='auto', max_leaf_nodes=None, min_samples_leaf=1,\n",
       "           min_samples_split=2, min_weight_fraction_leaf=0.0,\n",
       "           n_estimators=25, n_jobs=1, oob_score=False, random_state=None,\n",
       "           verbose=0, warm_start=False)"
      ]
     },
     "execution_count": 176,
     "metadata": {},
     "output_type": "execute_result"
    }
   ],
   "source": [
    "from sklearn.ensemble import RandomForestRegressor\n",
    "from sklearn.cross_validation import train_test_split\n",
    "\n",
    "X = trips_2015_sample[['pickup_latitude', 'pickup_longitude', 'dropoff_latitude', 'dropoff_longitude',\n",
    "                'monday','tuesday','wednesday','thursday','friday','saturday',\n",
    "                'hour_0','hour_1','hour_2','hour_3','hour_4','hour_5','hour_6','hour_7',\n",
    "                'hour_8','hour_9','hour_10','hour_11','hour_12','hour_13','hour_14','hour_15',\n",
    "                'hour_16','hour_17','hour_18','hour_19','hour_20','hour_21','hour_22','hour_23']]\n",
    "Y = trips_2015_sample['trip_length_minutes']\n",
    "X_train, X_test, Y_train, Y_test = train_test_split(X, Y, test_size=0.33, random_state=42)\n",
    "\n",
    "clf_length = RandomForestRegressor(n_estimators=25)\n",
    "clf_length.fit (X_train, Y_train)"
   ]
  },
  {
   "cell_type": "code",
   "execution_count": 177,
   "metadata": {
    "collapsed": false,
    "scrolled": true
   },
   "outputs": [
    {
     "data": {
      "text/plain": [
       "0.63059520623252485"
      ]
     },
     "execution_count": 177,
     "metadata": {},
     "output_type": "execute_result"
    }
   ],
   "source": [
    "clf_length.score(X_test, Y_test)"
   ]
  },
  {
   "cell_type": "code",
   "execution_count": 178,
   "metadata": {
    "collapsed": false
   },
   "outputs": [
    {
     "data": {
      "text/plain": [
       "RandomForestRegressor(bootstrap=True, criterion='mse', max_depth=None,\n",
       "           max_features='auto', max_leaf_nodes=None, min_samples_leaf=1,\n",
       "           min_samples_split=2, min_weight_fraction_leaf=0.0,\n",
       "           n_estimators=20, n_jobs=1, oob_score=False, random_state=None,\n",
       "           verbose=0, warm_start=False)"
      ]
     },
     "execution_count": 178,
     "metadata": {},
     "output_type": "execute_result"
    }
   ],
   "source": [
    "X = trips_2015_sample[['pickup_latitude', 'pickup_longitude', 'dropoff_latitude', 'dropoff_longitude',\n",
    "                'monday','tuesday','wednesday','thursday','friday','saturday',\n",
    "                'hour_0','hour_1','hour_2','hour_3','hour_4','hour_5','hour_6','hour_7',\n",
    "                'hour_8','hour_9','hour_10','hour_11','hour_12','hour_13','hour_14','hour_15',\n",
    "                'hour_16','hour_17','hour_18','hour_19','hour_20','hour_21','hour_22','hour_23']]\n",
    "Y = trips_2015_sample['total_amount'] -  trips_2015_sample['tip_amount'] \n",
    "X_train, X_test, Y_train, Y_test = train_test_split(X, Y, test_size=0.33, random_state=42)\n",
    "\n",
    "clf_fare = RandomForestRegressor(n_estimators=25)\n",
    "clf_fare.fit (X_train, Y_train)"
   ]
  },
  {
   "cell_type": "code",
   "execution_count": 179,
   "metadata": {
    "collapsed": false
   },
   "outputs": [
    {
     "data": {
      "text/plain": [
       "0.83902701155034387"
      ]
     },
     "execution_count": 179,
     "metadata": {},
     "output_type": "execute_result"
    }
   ],
   "source": [
    "clf_fare.score(X_test, Y_test)"
   ]
  },
  {
   "cell_type": "code",
   "execution_count": null,
   "metadata": {
    "collapsed": false
   },
   "outputs": [],
   "source": [
    "X = trips_2015_sample[['pickup_latitude', 'pickup_longitude', 'dropoff_latitude', 'dropoff_longitude',\n",
    "                'monday','tuesday','wednesday','thursday','friday','saturday',\n",
    "                'hour_0','hour_1','hour_2','hour_3','hour_4','hour_5','hour_6','hour_7',\n",
    "                'hour_8','hour_9','hour_10','hour_11','hour_12','hour_13','hour_14','hour_15',\n",
    "                'hour_16','hour_17','hour_18','hour_19','hour_20','hour_21','hour_22','hour_23']]\n",
    "Y = trips_2015_sample['trip_length_minutes']\n",
    "clf = RandomForestRegressor(n_estimators=25)\n",
    "clf_length.fit (X, Y)"
   ]
  },
  {
   "cell_type": "code",
   "execution_count": 157,
   "metadata": {
    "collapsed": false
   },
   "outputs": [
    {
     "data": {
      "text/plain": [
       "RandomForestRegressor(bootstrap=True, criterion='mse', max_depth=None,\n",
       "           max_features='auto', max_leaf_nodes=None, min_samples_leaf=1,\n",
       "           min_samples_split=2, min_weight_fraction_leaf=0.0,\n",
       "           n_estimators=20, n_jobs=1, oob_score=False, random_state=None,\n",
       "           verbose=0, warm_start=False)"
      ]
     },
     "execution_count": 157,
     "metadata": {},
     "output_type": "execute_result"
    }
   ],
   "source": [
    "X = trips_2015_sample[['pickup_latitude', 'pickup_longitude', 'dropoff_latitude', 'dropoff_longitude',\n",
    "                'monday','tuesday','wednesday','thursday','friday','saturday',\n",
    "                'hour_0','hour_1','hour_2','hour_3','hour_4','hour_5','hour_6','hour_7',\n",
    "                'hour_8','hour_9','hour_10','hour_11','hour_12','hour_13','hour_14','hour_15',\n",
    "                'hour_16','hour_17','hour_18','hour_19','hour_20','hour_21','hour_22','hour_23']]\n",
    "Y = trips_2015_sample['total_amount'] -  trips_2015_sample['tip_amount'] \n",
    "clf_fare = RandomForestRegressor(n_estimators=25)\n",
    "clf_fare.fit (X, Y)"
   ]
  },
  {
   "cell_type": "code",
   "execution_count": 158,
   "metadata": {
    "collapsed": false
   },
   "outputs": [
    {
     "name": "stdout",
     "output_type": "stream",
     "text": [
      "[ 31.33466667]\n"
     ]
    },
    {
     "data": {
      "text/plain": [
       "array([ 28.4])"
      ]
     },
     "execution_count": 158,
     "metadata": {},
     "output_type": "execute_result"
    }
   ],
   "source": [
    "pickup_lat = 40.80814846281458\n",
    "pickup_long = -73.95975591614842\n",
    "dropoff_lat = 40.73404654960721\n",
    "dropoff_long = -74.00164129212499\n",
    "JFK = 0\n",
    "Newark = 0\n",
    "Nassau_Westchester = 0\n",
    "Negotiated = 0\n",
    "print clf_length.predict([[pickup_lat,pickup_long,dropoff_lat,dropoff_long,\n",
    "              0,1,0,0,0,0,\n",
    "              0,0,0,0,0,0,0,0,\n",
    "              0,0,0,1,0,0,0,0,\n",
    "              0,0,0,0,0,0,0,0]])\n",
    "clf_fare.predict([[pickup_lat,pickup_long,dropoff_lat,dropoff_long,\n",
    "              0,1,0,0,0,0,\n",
    "              0,0,0,0,0,0,0,0,\n",
    "              0,0,0,1,0,0,0,0,\n",
    "              0,0,0,0,0,0,0,0]])"
   ]
  },
  {
   "cell_type": "code",
   "execution_count": 161,
   "metadata": {
    "collapsed": true
   },
   "outputs": [],
   "source": [
    "import dill\n",
    "with open(\"length_pred\", 'wb') as out_strm: \n",
    "    dill.dump(clf_length, out_strm)\n",
    "with open(\"fare_pred\", 'wb') as out_strm: \n",
    "    dill.dump(clf_fare, out_strm)"
   ]
  },
  {
   "cell_type": "code",
   "execution_count": 50,
   "metadata": {
    "collapsed": true
   },
   "outputs": [],
   "source": [
    "def predict_length(pickup_lat,pickup_long,dropoff_lat,dropoff_long,hour,JFK,Newark,Nassau_Westchester):\n",
    "    with open(\"length_pred\", 'rb') as in_strm:\n",
    "        length_pred = dill.load(in_strm)\n",
    "    predicted_length = length_pred.predict([[pickup_lat,pickup_long,dropoff_lat,dropoff_long,\n",
    "                  0,1,0,0,0,0,\n",
    "                  0,0,0,0,0,0,0,0,\n",
    "                  0,0,0,1,0,0,0,0,\n",
    "                  0,0,0,0,0,0,0,0,\n",
    "                  JFK,Newark,Nassau_Westchester,0]])\n",
    "    return predicted_length\n",
    "\n",
    "def predict_fare(pickup_lat,pickup_long,dropoff_lat,dropoff_long,hour,JFK,Newark,Nassau_Westchester):\n",
    "    with open(\"fare_pred\", 'rb') as in_strm:\n",
    "        fare_pred = dill.load(in_strm)\n",
    "    predicted_fare = fare_pred.predict([[pickup_lat,pickup_long,dropoff_lat,dropoff_long,\n",
    "                  0,1,0,0,0,0,\n",
    "                  0,0,0,0,0,0,0,0,\n",
    "                  0,0,0,1,0,0,0,0,\n",
    "                  0,0,0,0,0,0,0,0,\n",
    "                  JFK,Newark,Nassau_Westchester,0]])\n",
    "    return predicted_fare"
   ]
  },
  {
   "cell_type": "code",
   "execution_count": 53,
   "metadata": {
    "collapsed": false
   },
   "outputs": [
    {
     "data": {
      "text/plain": [
       "30.855"
      ]
     },
     "execution_count": 53,
     "metadata": {},
     "output_type": "execute_result"
    }
   ],
   "source": [
    "length = predict_length(40.80814846281458,-73.95975591614842,40.73404654960721,-74.00164129212499,10,0,0,0)\n",
    "length[0]"
   ]
  },
  {
   "cell_type": "code",
   "execution_count": 52,
   "metadata": {
    "collapsed": false
   },
   "outputs": [
    {
     "data": {
      "text/plain": [
       "array([ 27.575])"
      ]
     },
     "execution_count": 52,
     "metadata": {},
     "output_type": "execute_result"
    }
   ],
   "source": [
    "fare = predict_fare(40.80814846281458,-73.95975591614842,40.73404654960721,-74.00164129212499,10,0,0,0)\n",
    "fare"
   ]
  },
  {
   "cell_type": "code",
   "execution_count": 72,
   "metadata": {
    "collapsed": false
   },
   "outputs": [
    {
     "name": "stdout",
     "output_type": "stream",
     "text": [
      "2016-07-05 00:00:00 <type 'datetime.datetime'>\n"
     ]
    }
   ],
   "source": [
    "from datetime import datetime, date\n",
    "test = \"2016-07-05\"\n",
    "test = datetime.strptime(test, '%Y-%m-%d')\n",
    "print test, type(test)"
   ]
  },
  {
   "cell_type": "code",
   "execution_count": 74,
   "metadata": {
    "collapsed": false
   },
   "outputs": [
    {
     "data": {
      "text/plain": [
       "datetime.date(2016, 7, 5)"
      ]
     },
     "execution_count": 74,
     "metadata": {},
     "output_type": "execute_result"
    }
   ],
   "source": [
    "test.date()"
   ]
  },
  {
   "cell_type": "code",
   "execution_count": 73,
   "metadata": {
    "collapsed": false
   },
   "outputs": [
    {
     "data": {
      "text/plain": [
       "'2016-07-05'"
      ]
     },
     "execution_count": 73,
     "metadata": {},
     "output_type": "execute_result"
    }
   ],
   "source": [
    "str(date.today())"
   ]
  },
  {
   "cell_type": "code",
   "execution_count": 65,
   "metadata": {
    "collapsed": false
   },
   "outputs": [
    {
     "data": {
      "text/plain": [
       "datetime.datetime(2016, 7, 5, 0, 0)"
      ]
     },
     "execution_count": 65,
     "metadata": {},
     "output_type": "execute_result"
    }
   ],
   "source": [
    "datetime.strptime(str(date.today()), '%Y-%m-%d')"
   ]
  },
  {
   "cell_type": "code",
   "execution_count": 95,
   "metadata": {
    "collapsed": false
   },
   "outputs": [
    {
     "data": {
      "text/plain": [
       "'00'"
      ]
     },
     "execution_count": 95,
     "metadata": {},
     "output_type": "execute_result"
    }
   ],
   "source": [
    "datetime.now().hour\n",
    "'%02d' % datetime.now().hour"
   ]
  },
  {
   "cell_type": "code",
   "execution_count": 77,
   "metadata": {
    "collapsed": false
   },
   "outputs": [
    {
     "data": {
      "text/plain": [
       "1"
      ]
     },
     "execution_count": 77,
     "metadata": {},
     "output_type": "execute_result"
    }
   ],
   "source": [
    "special = 1\n",
    "JFK = 1 if special == 1 else 0\n",
    "JFK"
   ]
  },
  {
   "cell_type": "code",
   "execution_count": 91,
   "metadata": {
    "collapsed": false,
    "scrolled": true
   },
   "outputs": [
    {
     "data": {
      "text/plain": [
       "[40.80814846281458,\n",
       " -73.95975591614842,\n",
       " 40.73404654960721,\n",
       " -74.00164129212499,\n",
       " 0,\n",
       " 1,\n",
       " 0,\n",
       " 0,\n",
       " 0,\n",
       " 0,\n",
       " 1,\n",
       " 0,\n",
       " 0,\n",
       " 0,\n",
       " 0,\n",
       " 0,\n",
       " 0,\n",
       " 0,\n",
       " 0,\n",
       " 0,\n",
       " 0,\n",
       " 0,\n",
       " 0,\n",
       " 0,\n",
       " 0,\n",
       " 0,\n",
       " 0,\n",
       " 0,\n",
       " 0,\n",
       " 0,\n",
       " 0,\n",
       " 0,\n",
       " 0,\n",
       " 0]"
      ]
     },
     "execution_count": 91,
     "metadata": {},
     "output_type": "execute_result"
    }
   ],
   "source": [
    "X_pred = [pickup_lat,pickup_long,dropoff_lat,dropoff_long,\n",
    "                  0,1,0,0,0,0,\n",
    "                  0,0,0,0,0,0,0,0,\n",
    "                  0,0,0,0,0,0,0,0,\n",
    "                  0,0,0,0,0,0,0,0]\n",
    "hour = 0\n",
    "X_pred[hour+10] = 1\n",
    "X_pred"
   ]
  },
  {
   "cell_type": "code",
   "execution_count": null,
   "metadata": {
    "collapsed": true
   },
   "outputs": [],
   "source": []
  }
 ],
 "metadata": {
  "kernelspec": {
   "display_name": "Python 2",
   "language": "python",
   "name": "python2"
  },
  "language_info": {
   "codemirror_mode": {
    "name": "ipython",
    "version": 2
   },
   "file_extension": ".py",
   "mimetype": "text/x-python",
   "name": "python",
   "nbconvert_exporter": "python",
   "pygments_lexer": "ipython2",
   "version": "2.7.11"
  }
 },
 "nbformat": 4,
 "nbformat_minor": 0
}
